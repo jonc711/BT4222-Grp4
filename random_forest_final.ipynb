{
 "cells": [
  {
   "cell_type": "code",
   "execution_count": 1,
   "metadata": {
    "id": "ADXpJBUFimnB"
   },
   "outputs": [],
   "source": [
    "import pandas as pd\n",
    "from scipy.sparse import vstack, hstack\n",
    "import matplotlib.pyplot as plt\n",
    "import numpy as np\n",
    "\n",
    "from sklearn.model_selection import train_test_split\n",
    "from sklearn.feature_extraction.text import CountVectorizer\n",
    "from sklearn.dummy import DummyClassifier\n",
    "from sklearn import metrics\n",
    "\n",
    "\n",
    "\n",
    "# feel free to import other libraries/functions "
   ]
  },
  {
   "cell_type": "markdown",
   "metadata": {
    "id": "Ct84J7OkBFRb"
   },
   "source": [
    "#Import Processed and Cleaned Data"
   ]
  },
  {
   "cell_type": "markdown",
   "metadata": {
    "id": "TprlJnH-BKaa"
   },
   "source": [
    "##Topic modelling data chosen due to good performance in linear regression models"
   ]
  },
  {
   "cell_type": "code",
   "execution_count": 2,
   "metadata": {
    "id": "zNmgj8Z-Ozi2"
   },
   "outputs": [],
   "source": [
    "df_x_train = pd.read_csv('final_data/X_train_keybert.csv')\n",
    "df_y_train = pd.read_csv('final_data/y_train.csv')\n",
    "df_x_test = pd.read_csv('final_data/X_test_keybert.csv')\n",
    "df_y_test = pd.read_csv('final_data/y_test.csv')\n"
   ]
  },
  {
   "cell_type": "code",
   "execution_count": 3,
   "metadata": {
    "id": "xUf_6J9nu0dJ"
   },
   "outputs": [],
   "source": [
    "features = pd.read_csv('final_data/feature_scores_keybert.csv')"
   ]
  },
  {
   "cell_type": "code",
   "execution_count": 4,
   "metadata": {
    "colab": {
     "base_uri": "https://localhost:8080/"
    },
    "id": "sujW69O7k_EF",
    "outputId": "2e90142a-a8ee-4379-8b94-0f2084f03e5b"
   },
   "outputs": [
    {
     "name": "stdout",
     "output_type": "stream",
     "text": [
      "Index(['title', 'release_year', 'end_year', 'type', 'runtime', 'Action',\n",
      "       'Adult', 'Adventure', 'Animation', 'Biography',\n",
      "       ...\n",
      "       'Keyword_town', 'Keyword_travel', 'Keyword_village', 'Keyword_war',\n",
      "       'Keyword_wedding', 'Keyword_wife', 'Keyword_woman', 'Keyword_writer',\n",
      "       'Keyword_york', 'Keyword_young'],\n",
      "      dtype='object', length=1113)\n"
     ]
    }
   ],
   "source": [
    "print(df_x_train.columns)"
   ]
  },
  {
   "cell_type": "code",
   "execution_count": 5,
   "metadata": {
    "id": "Z6DGFMaKv91P"
   },
   "outputs": [],
   "source": [
    "features = features.transpose()"
   ]
  },
  {
   "cell_type": "code",
   "execution_count": 6,
   "metadata": {
    "colab": {
     "base_uri": "https://localhost:8080/",
     "height": 206
    },
    "id": "RqFT-kJ0wBNT",
    "outputId": "c3a1d332-c2eb-4b57-f077-19e51476ba39"
   },
   "outputs": [
    {
     "data": {
      "text/html": [
       "<div>\n",
       "<style scoped>\n",
       "    .dataframe tbody tr th:only-of-type {\n",
       "        vertical-align: middle;\n",
       "    }\n",
       "\n",
       "    .dataframe tbody tr th {\n",
       "        vertical-align: top;\n",
       "    }\n",
       "\n",
       "    .dataframe thead th {\n",
       "        text-align: right;\n",
       "    }\n",
       "</style>\n",
       "<table border=\"1\" class=\"dataframe\">\n",
       "  <thead>\n",
       "    <tr style=\"text-align: right;\">\n",
       "      <th></th>\n",
       "      <th>0</th>\n",
       "    </tr>\n",
       "  </thead>\n",
       "  <tbody>\n",
       "    <tr>\n",
       "      <th>Horror</th>\n",
       "      <td>5368.489161</td>\n",
       "    </tr>\n",
       "    <tr>\n",
       "      <th>type</th>\n",
       "      <td>3766.108935</td>\n",
       "    </tr>\n",
       "    <tr>\n",
       "      <th>Drama</th>\n",
       "      <td>2628.458755</td>\n",
       "    </tr>\n",
       "    <tr>\n",
       "      <th>Thriller</th>\n",
       "      <td>1247.980408</td>\n",
       "    </tr>\n",
       "    <tr>\n",
       "      <th>Sci-Fi</th>\n",
       "      <td>1043.069004</td>\n",
       "    </tr>\n",
       "  </tbody>\n",
       "</table>\n",
       "</div>"
      ],
      "text/plain": [
       "                    0\n",
       "Horror    5368.489161\n",
       "type      3766.108935\n",
       "Drama     2628.458755\n",
       "Thriller  1247.980408\n",
       "Sci-Fi    1043.069004"
      ]
     },
     "execution_count": 6,
     "metadata": {},
     "output_type": "execute_result"
    }
   ],
   "source": [
    "features.head()"
   ]
  },
  {
   "cell_type": "code",
   "execution_count": 7,
   "metadata": {
    "id": "XYuzm7jhwtiw"
   },
   "outputs": [],
   "source": [
    "features.columns = ['importance']"
   ]
  },
  {
   "cell_type": "code",
   "execution_count": 8,
   "metadata": {
    "colab": {
     "base_uri": "https://localhost:8080/",
     "height": 206
    },
    "id": "F0IQeDvfw2Pc",
    "outputId": "f9abbd46-5864-4b43-f8ba-0c9dbf4e0a4b"
   },
   "outputs": [
    {
     "data": {
      "text/html": [
       "<div>\n",
       "<style scoped>\n",
       "    .dataframe tbody tr th:only-of-type {\n",
       "        vertical-align: middle;\n",
       "    }\n",
       "\n",
       "    .dataframe tbody tr th {\n",
       "        vertical-align: top;\n",
       "    }\n",
       "\n",
       "    .dataframe thead th {\n",
       "        text-align: right;\n",
       "    }\n",
       "</style>\n",
       "<table border=\"1\" class=\"dataframe\">\n",
       "  <thead>\n",
       "    <tr style=\"text-align: right;\">\n",
       "      <th></th>\n",
       "      <th>importance</th>\n",
       "    </tr>\n",
       "  </thead>\n",
       "  <tbody>\n",
       "    <tr>\n",
       "      <th>Horror</th>\n",
       "      <td>5368.489161</td>\n",
       "    </tr>\n",
       "    <tr>\n",
       "      <th>type</th>\n",
       "      <td>3766.108935</td>\n",
       "    </tr>\n",
       "    <tr>\n",
       "      <th>Drama</th>\n",
       "      <td>2628.458755</td>\n",
       "    </tr>\n",
       "    <tr>\n",
       "      <th>Thriller</th>\n",
       "      <td>1247.980408</td>\n",
       "    </tr>\n",
       "    <tr>\n",
       "      <th>Sci-Fi</th>\n",
       "      <td>1043.069004</td>\n",
       "    </tr>\n",
       "  </tbody>\n",
       "</table>\n",
       "</div>"
      ],
      "text/plain": [
       "           importance\n",
       "Horror    5368.489161\n",
       "type      3766.108935\n",
       "Drama     2628.458755\n",
       "Thriller  1247.980408\n",
       "Sci-Fi    1043.069004"
      ]
     },
     "execution_count": 8,
     "metadata": {},
     "output_type": "execute_result"
    }
   ],
   "source": [
    "features.head()"
   ]
  },
  {
   "cell_type": "markdown",
   "metadata": {
    "id": "ujsZt-AxBWwU"
   },
   "source": [
    "##Feature selection by creating list of top 100 features by importance"
   ]
  },
  {
   "cell_type": "code",
   "execution_count": 9,
   "metadata": {
    "id": "jMk1KhoHwLhr"
   },
   "outputs": [],
   "source": [
    "selected_features = features.sort_values(by='importance', ascending=False).head(100)"
   ]
  },
  {
   "cell_type": "code",
   "execution_count": 10,
   "metadata": {
    "colab": {
     "base_uri": "https://localhost:8080/",
     "height": 424
    },
    "id": "DmpENf4wxOaM",
    "outputId": "2a27e203-a8d4-4e80-a6c8-5fdc667d7b7d"
   },
   "outputs": [
    {
     "data": {
      "text/html": [
       "<div>\n",
       "<style scoped>\n",
       "    .dataframe tbody tr th:only-of-type {\n",
       "        vertical-align: middle;\n",
       "    }\n",
       "\n",
       "    .dataframe tbody tr th {\n",
       "        vertical-align: top;\n",
       "    }\n",
       "\n",
       "    .dataframe thead th {\n",
       "        text-align: right;\n",
       "    }\n",
       "</style>\n",
       "<table border=\"1\" class=\"dataframe\">\n",
       "  <thead>\n",
       "    <tr style=\"text-align: right;\">\n",
       "      <th></th>\n",
       "      <th>importance</th>\n",
       "    </tr>\n",
       "  </thead>\n",
       "  <tbody>\n",
       "    <tr>\n",
       "      <th>Horror</th>\n",
       "      <td>5368.489161</td>\n",
       "    </tr>\n",
       "    <tr>\n",
       "      <th>type</th>\n",
       "      <td>3766.108935</td>\n",
       "    </tr>\n",
       "    <tr>\n",
       "      <th>Drama</th>\n",
       "      <td>2628.458755</td>\n",
       "    </tr>\n",
       "    <tr>\n",
       "      <th>Thriller</th>\n",
       "      <td>1247.980408</td>\n",
       "    </tr>\n",
       "    <tr>\n",
       "      <th>Sci-Fi</th>\n",
       "      <td>1043.069004</td>\n",
       "    </tr>\n",
       "    <tr>\n",
       "      <th>...</th>\n",
       "      <td>...</td>\n",
       "    </tr>\n",
       "    <tr>\n",
       "      <th>Cast_vernonwells</th>\n",
       "      <td>22.949852</td>\n",
       "    </tr>\n",
       "    <tr>\n",
       "      <th>Cast_stevenseagal</th>\n",
       "      <td>22.936663</td>\n",
       "    </tr>\n",
       "    <tr>\n",
       "      <th>Keyword_child</th>\n",
       "      <td>22.909459</td>\n",
       "    </tr>\n",
       "    <tr>\n",
       "      <th>Cast_michaelironside</th>\n",
       "      <td>21.992027</td>\n",
       "    </tr>\n",
       "    <tr>\n",
       "      <th>Keyword_death</th>\n",
       "      <td>21.873168</td>\n",
       "    </tr>\n",
       "  </tbody>\n",
       "</table>\n",
       "<p>100 rows × 1 columns</p>\n",
       "</div>"
      ],
      "text/plain": [
       "                       importance\n",
       "Horror                5368.489161\n",
       "type                  3766.108935\n",
       "Drama                 2628.458755\n",
       "Thriller              1247.980408\n",
       "Sci-Fi                1043.069004\n",
       "...                           ...\n",
       "Cast_vernonwells        22.949852\n",
       "Cast_stevenseagal       22.936663\n",
       "Keyword_child           22.909459\n",
       "Cast_michaelironside    21.992027\n",
       "Keyword_death           21.873168\n",
       "\n",
       "[100 rows x 1 columns]"
      ]
     },
     "execution_count": 10,
     "metadata": {},
     "output_type": "execute_result"
    }
   ],
   "source": [
    "selected_features"
   ]
  },
  {
   "cell_type": "code",
   "execution_count": 11,
   "metadata": {
    "id": "IuxKVqKZz-7j"
   },
   "outputs": [],
   "source": [
    "selected_features_lst = list(selected_features.index)"
   ]
  },
  {
   "cell_type": "code",
   "execution_count": 12,
   "metadata": {
    "colab": {
     "base_uri": "https://localhost:8080/",
     "height": 206
    },
    "id": "LcIm6QYBldwG",
    "outputId": "fc706cff-3cf0-48c1-b18f-c3b07f89a398"
   },
   "outputs": [
    {
     "data": {
      "text/html": [
       "<div>\n",
       "<style scoped>\n",
       "    .dataframe tbody tr th:only-of-type {\n",
       "        vertical-align: middle;\n",
       "    }\n",
       "\n",
       "    .dataframe tbody tr th {\n",
       "        vertical-align: top;\n",
       "    }\n",
       "\n",
       "    .dataframe thead th {\n",
       "        text-align: right;\n",
       "    }\n",
       "</style>\n",
       "<table border=\"1\" class=\"dataframe\">\n",
       "  <thead>\n",
       "    <tr style=\"text-align: right;\">\n",
       "      <th></th>\n",
       "      <th>rating</th>\n",
       "    </tr>\n",
       "  </thead>\n",
       "  <tbody>\n",
       "    <tr>\n",
       "      <th>0</th>\n",
       "      <td>5.4</td>\n",
       "    </tr>\n",
       "    <tr>\n",
       "      <th>1</th>\n",
       "      <td>7.6</td>\n",
       "    </tr>\n",
       "    <tr>\n",
       "      <th>2</th>\n",
       "      <td>3.2</td>\n",
       "    </tr>\n",
       "    <tr>\n",
       "      <th>3</th>\n",
       "      <td>7.1</td>\n",
       "    </tr>\n",
       "    <tr>\n",
       "      <th>4</th>\n",
       "      <td>5.3</td>\n",
       "    </tr>\n",
       "  </tbody>\n",
       "</table>\n",
       "</div>"
      ],
      "text/plain": [
       "   rating\n",
       "0     5.4\n",
       "1     7.6\n",
       "2     3.2\n",
       "3     7.1\n",
       "4     5.3"
      ]
     },
     "execution_count": 12,
     "metadata": {},
     "output_type": "execute_result"
    }
   ],
   "source": [
    "df_y_train.head()"
   ]
  },
  {
   "cell_type": "markdown",
   "metadata": {
    "id": "WeJZpTLmBjpX"
   },
   "source": [
    "##Create test and train dataframes with selected features"
   ]
  },
  {
   "cell_type": "code",
   "execution_count": 13,
   "metadata": {
    "id": "xLo34ZoVli-D"
   },
   "outputs": [],
   "source": [
    "X_train = df_x_train[selected_features_lst]"
   ]
  },
  {
   "cell_type": "code",
   "execution_count": 14,
   "metadata": {
    "id": "EugN124omKUh"
   },
   "outputs": [],
   "source": [
    "Y_train = df_y_train"
   ]
  },
  {
   "cell_type": "code",
   "execution_count": 15,
   "metadata": {
    "id": "NWCGQ6K32LQH"
   },
   "outputs": [],
   "source": [
    "X_test = df_x_test[selected_features_lst]\n",
    "Y_test = df_y_test"
   ]
  },
  {
   "cell_type": "code",
   "execution_count": 16,
   "metadata": {
    "colab": {
     "base_uri": "https://localhost:8080/"
    },
    "id": "Hm5zO5ZFAyz9",
    "outputId": "d175c32d-fc79-4399-f909-bd190f967f80"
   },
   "outputs": [
    {
     "name": "stdout",
     "output_type": "stream",
     "text": [
      "(58181, 100)\n",
      "(14546, 100)\n",
      "(58181, 1)\n",
      "(14546, 1)\n"
     ]
    }
   ],
   "source": [
    "print(X_train.shape)\n",
    "print(X_test.shape)\n",
    "print(Y_train.shape)\n",
    "print(Y_test.shape)"
   ]
  },
  {
   "cell_type": "code",
   "execution_count": 38,
   "metadata": {
    "colab": {
     "base_uri": "https://localhost:8080/",
     "height": 236
    },
    "id": "XqY61_LL1cxb",
    "outputId": "bd83ed55-6636-4845-cb4f-9928d57f6be5"
   },
   "outputs": [
    {
     "data": {
      "text/html": [
       "<div>\n",
       "<style scoped>\n",
       "    .dataframe tbody tr th:only-of-type {\n",
       "        vertical-align: middle;\n",
       "    }\n",
       "\n",
       "    .dataframe tbody tr th {\n",
       "        vertical-align: top;\n",
       "    }\n",
       "\n",
       "    .dataframe thead th {\n",
       "        text-align: right;\n",
       "    }\n",
       "</style>\n",
       "<table border=\"1\" class=\"dataframe\">\n",
       "  <thead>\n",
       "    <tr style=\"text-align: right;\">\n",
       "      <th></th>\n",
       "      <th>Horror</th>\n",
       "      <th>type</th>\n",
       "      <th>Drama</th>\n",
       "      <th>Thriller</th>\n",
       "      <th>Sci-Fi</th>\n",
       "      <th>Animation</th>\n",
       "      <th>Documentary</th>\n",
       "      <th>History</th>\n",
       "      <th>release_year</th>\n",
       "      <th>Biography</th>\n",
       "      <th>...</th>\n",
       "      <th>Cast_briankrause</th>\n",
       "      <th>Keyword_journey</th>\n",
       "      <th>Cast_billyzane</th>\n",
       "      <th>Cast_cynthiarothrock</th>\n",
       "      <th>Keyword_character</th>\n",
       "      <th>Cast_vernonwells</th>\n",
       "      <th>Cast_stevenseagal</th>\n",
       "      <th>Keyword_child</th>\n",
       "      <th>Cast_michaelironside</th>\n",
       "      <th>Keyword_death</th>\n",
       "    </tr>\n",
       "  </thead>\n",
       "  <tbody>\n",
       "    <tr>\n",
       "      <th>0</th>\n",
       "      <td>0.0</td>\n",
       "      <td>0</td>\n",
       "      <td>1.0</td>\n",
       "      <td>1.0</td>\n",
       "      <td>0.0</td>\n",
       "      <td>0.0</td>\n",
       "      <td>0.0</td>\n",
       "      <td>0.0</td>\n",
       "      <td>2015</td>\n",
       "      <td>0.0</td>\n",
       "      <td>...</td>\n",
       "      <td>0.0</td>\n",
       "      <td>0</td>\n",
       "      <td>0.0</td>\n",
       "      <td>0.0</td>\n",
       "      <td>0</td>\n",
       "      <td>0.0</td>\n",
       "      <td>0.0</td>\n",
       "      <td>0</td>\n",
       "      <td>0.0</td>\n",
       "      <td>1</td>\n",
       "    </tr>\n",
       "    <tr>\n",
       "      <th>1</th>\n",
       "      <td>0.0</td>\n",
       "      <td>0</td>\n",
       "      <td>0.0</td>\n",
       "      <td>0.0</td>\n",
       "      <td>0.0</td>\n",
       "      <td>0.0</td>\n",
       "      <td>0.0</td>\n",
       "      <td>0.0</td>\n",
       "      <td>1934</td>\n",
       "      <td>0.0</td>\n",
       "      <td>...</td>\n",
       "      <td>0.0</td>\n",
       "      <td>0</td>\n",
       "      <td>0.0</td>\n",
       "      <td>0.0</td>\n",
       "      <td>0</td>\n",
       "      <td>0.0</td>\n",
       "      <td>0.0</td>\n",
       "      <td>0</td>\n",
       "      <td>0.0</td>\n",
       "      <td>0</td>\n",
       "    </tr>\n",
       "    <tr>\n",
       "      <th>2</th>\n",
       "      <td>1.0</td>\n",
       "      <td>0</td>\n",
       "      <td>0.0</td>\n",
       "      <td>0.0</td>\n",
       "      <td>1.0</td>\n",
       "      <td>0.0</td>\n",
       "      <td>0.0</td>\n",
       "      <td>0.0</td>\n",
       "      <td>1975</td>\n",
       "      <td>0.0</td>\n",
       "      <td>...</td>\n",
       "      <td>0.0</td>\n",
       "      <td>0</td>\n",
       "      <td>0.0</td>\n",
       "      <td>0.0</td>\n",
       "      <td>0</td>\n",
       "      <td>0.0</td>\n",
       "      <td>0.0</td>\n",
       "      <td>0</td>\n",
       "      <td>0.0</td>\n",
       "      <td>0</td>\n",
       "    </tr>\n",
       "    <tr>\n",
       "      <th>3</th>\n",
       "      <td>0.0</td>\n",
       "      <td>0</td>\n",
       "      <td>1.0</td>\n",
       "      <td>0.0</td>\n",
       "      <td>0.0</td>\n",
       "      <td>0.0</td>\n",
       "      <td>0.0</td>\n",
       "      <td>0.0</td>\n",
       "      <td>2011</td>\n",
       "      <td>0.0</td>\n",
       "      <td>...</td>\n",
       "      <td>0.0</td>\n",
       "      <td>0</td>\n",
       "      <td>0.0</td>\n",
       "      <td>0.0</td>\n",
       "      <td>0</td>\n",
       "      <td>0.0</td>\n",
       "      <td>0.0</td>\n",
       "      <td>0</td>\n",
       "      <td>0.0</td>\n",
       "      <td>0</td>\n",
       "    </tr>\n",
       "    <tr>\n",
       "      <th>4</th>\n",
       "      <td>0.0</td>\n",
       "      <td>0</td>\n",
       "      <td>1.0</td>\n",
       "      <td>0.0</td>\n",
       "      <td>0.0</td>\n",
       "      <td>0.0</td>\n",
       "      <td>0.0</td>\n",
       "      <td>0.0</td>\n",
       "      <td>1973</td>\n",
       "      <td>0.0</td>\n",
       "      <td>...</td>\n",
       "      <td>0.0</td>\n",
       "      <td>0</td>\n",
       "      <td>0.0</td>\n",
       "      <td>0.0</td>\n",
       "      <td>0</td>\n",
       "      <td>0.0</td>\n",
       "      <td>0.0</td>\n",
       "      <td>0</td>\n",
       "      <td>0.0</td>\n",
       "      <td>0</td>\n",
       "    </tr>\n",
       "  </tbody>\n",
       "</table>\n",
       "<p>5 rows × 100 columns</p>\n",
       "</div>"
      ],
      "text/plain": [
       "   Horror  type  Drama  Thriller  Sci-Fi  Animation  Documentary  History  \\\n",
       "0     0.0     0    1.0       1.0     0.0        0.0          0.0      0.0   \n",
       "1     0.0     0    0.0       0.0     0.0        0.0          0.0      0.0   \n",
       "2     1.0     0    0.0       0.0     1.0        0.0          0.0      0.0   \n",
       "3     0.0     0    1.0       0.0     0.0        0.0          0.0      0.0   \n",
       "4     0.0     0    1.0       0.0     0.0        0.0          0.0      0.0   \n",
       "\n",
       "   release_year  Biography  ...  Cast_briankrause  Keyword_journey  \\\n",
       "0          2015        0.0  ...               0.0                0   \n",
       "1          1934        0.0  ...               0.0                0   \n",
       "2          1975        0.0  ...               0.0                0   \n",
       "3          2011        0.0  ...               0.0                0   \n",
       "4          1973        0.0  ...               0.0                0   \n",
       "\n",
       "   Cast_billyzane  Cast_cynthiarothrock  Keyword_character  Cast_vernonwells  \\\n",
       "0             0.0                   0.0                  0               0.0   \n",
       "1             0.0                   0.0                  0               0.0   \n",
       "2             0.0                   0.0                  0               0.0   \n",
       "3             0.0                   0.0                  0               0.0   \n",
       "4             0.0                   0.0                  0               0.0   \n",
       "\n",
       "   Cast_stevenseagal  Keyword_child  Cast_michaelironside  Keyword_death  \n",
       "0                0.0              0                   0.0              1  \n",
       "1                0.0              0                   0.0              0  \n",
       "2                0.0              0                   0.0              0  \n",
       "3                0.0              0                   0.0              0  \n",
       "4                0.0              0                   0.0              0  \n",
       "\n",
       "[5 rows x 100 columns]"
      ]
     },
     "execution_count": 38,
     "metadata": {},
     "output_type": "execute_result"
    }
   ],
   "source": [
    "X_train.head()"
   ]
  },
  {
   "cell_type": "markdown",
   "metadata": {
    "id": "xEiPl-EIA5hg"
   },
   "source": [
    "#Initializing Random Forest Modelling"
   ]
  },
  {
   "cell_type": "code",
   "execution_count": 17,
   "metadata": {
    "id": "r07r1YEzpEkm"
   },
   "outputs": [],
   "source": [
    "from sklearn.ensemble import RandomForestRegressor"
   ]
  },
  {
   "cell_type": "code",
   "execution_count": 40,
   "metadata": {
    "colab": {
     "base_uri": "https://localhost:8080/"
    },
    "id": "vKbFjsYHilxt",
    "outputId": "6b17727d-34aa-48f4-fb61-f6e460811e6d"
   },
   "outputs": [
    {
     "name": "stderr",
     "output_type": "stream",
     "text": [
      "<ipython-input-40-65b1eea9d9a4>:6: DataConversionWarning: A column-vector y was passed when a 1d array was expected. Please change the shape of y to (n_samples,), for example using ravel().\n",
      "  clf.fit(X_train, Y_train)\n"
     ]
    },
    {
     "data": {
      "text/plain": [
       "RandomForestRegressor(random_state=1)"
      ]
     },
     "execution_count": 40,
     "metadata": {},
     "output_type": "execute_result"
    }
   ],
   "source": [
    "# Create a random forest classifier\n",
    "#clf = RandomForestRegressor(n_estimators=10000, random_state=0, n_jobs=-1)\n",
    "clf = RandomForestRegressor(random_state=1)\n",
    "\n",
    "# Train the classifier\n",
    "clf.fit(X_train, Y_train)\n"
   ]
  },
  {
   "cell_type": "code",
   "execution_count": 42,
   "metadata": {
    "colab": {
     "base_uri": "https://localhost:8080/"
    },
    "id": "KT1S4HNR69P3",
    "outputId": "0827e171-d553-4b88-aef5-ae18af2727ad"
   },
   "outputs": [
    {
     "name": "stdout",
     "output_type": "stream",
     "text": [
      "Mean Absolute Error: 0.8653\n",
      "Mean Squared Error: 1.2990\n",
      "Root Mean Squared Error: 1.1397\n"
     ]
    }
   ],
   "source": [
    "# Use the forest's predict method on the test data\n",
    "predictions = clf.predict(X_test)\n",
    "predictions = predictions.reshape(14546,1)\n",
    "# Calculate the absolute errors\n",
    "errors = abs(predictions - Y_test)\n",
    "# Print out the mean absolute error (mae), mean squared error (mse), root mean squared error (rmse)\n",
    "print('Mean Absolute Error: {0:.4f}'.format(metrics.mean_absolute_error(Y_test, predictions)))  \n",
    "print('Mean Squared Error: {0:.4f}'.format(metrics.mean_squared_error(Y_test, predictions))) \n",
    "print('Root Mean Squared Error: {0:.4f}'.format(np.sqrt(metrics.mean_squared_error(Y_test, predictions))))"
   ]
  },
  {
   "cell_type": "code",
   "execution_count": 43,
   "metadata": {
    "colab": {
     "base_uri": "https://localhost:8080/"
    },
    "id": "u2bconWp-PV9",
    "outputId": "3c7f139d-1968-4070-ceeb-3ffc8b159440"
   },
   "outputs": [
    {
     "name": "stdout",
     "output_type": "stream",
     "text": [
      "Accuracy: 83.49 %.\n"
     ]
    }
   ],
   "source": [
    "# Calculate mean absolute percentage error (MAPE)\n",
    "mape = 100 * (errors / Y_test)\n",
    "# Calculate and display accuracy\n",
    "accuracy = 100 - np.mean(mape)\n",
    "print('Accuracy:', round(accuracy, 2)[0], '%.')"
   ]
  },
  {
   "cell_type": "markdown",
   "metadata": {
    "id": "lA4IAVPHDr7G"
   },
   "source": [
    "##Increasing number of estimators"
   ]
  },
  {
   "cell_type": "code",
   "execution_count": 44,
   "metadata": {
    "colab": {
     "base_uri": "https://localhost:8080/"
    },
    "id": "NDV6NDPlDsQm",
    "outputId": "d740c38e-887f-47df-d961-2b6a487ae7b5"
   },
   "outputs": [
    {
     "name": "stderr",
     "output_type": "stream",
     "text": [
      "<ipython-input-44-9002e1085eec>:5: DataConversionWarning: A column-vector y was passed when a 1d array was expected. Please change the shape of y to (n_samples,), for example using ravel().\n",
      "  clf_2.fit(X_train, Y_train)\n"
     ]
    },
    {
     "data": {
      "text/plain": [
       "RandomForestRegressor(n_estimators=1000, random_state=1)"
      ]
     },
     "execution_count": 44,
     "metadata": {},
     "output_type": "execute_result"
    }
   ],
   "source": [
    "# Create a random forest classifier=\n",
    "clf_2 = RandomForestRegressor(n_estimators=1000, random_state=1)\n",
    "\n",
    "# Train the classifier\n",
    "clf_2.fit(X_train, Y_train)\n"
   ]
  },
  {
   "cell_type": "code",
   "execution_count": 45,
   "metadata": {
    "colab": {
     "base_uri": "https://localhost:8080/"
    },
    "id": "WY-L-SPhDsQm",
    "outputId": "10ba1ff3-8b83-4d10-f7a1-926dd9fb72d9"
   },
   "outputs": [
    {
     "name": "stdout",
     "output_type": "stream",
     "text": [
      "Mean Absolute Error: 0.8614\n",
      "Mean Squared Error: 1.2876\n",
      "Root Mean Squared Error: 1.1347\n"
     ]
    }
   ],
   "source": [
    "# Use the forest's predict method on the test data\n",
    "predictions_2 = clf_2.predict(X_test)\n",
    "predictions_2 = predictions_2.reshape(14546,1)\n",
    "# Calculate the absolute errors\n",
    "errors_2 = abs(predictions_2 - Y_test)\n",
    "# Print out the mean absolute error (mae)\n",
    "print('Mean Absolute Error: {0:.4f}'.format(metrics.mean_absolute_error(Y_test, predictions_2)))  \n",
    "print('Mean Squared Error: {0:.4f}'.format(metrics.mean_squared_error(Y_test, predictions_2))) \n",
    "print('Root Mean Squared Error: {0:.4f}'.format(np.sqrt(metrics.mean_squared_error(Y_test, predictions_2))))"
   ]
  },
  {
   "cell_type": "code",
   "execution_count": 46,
   "metadata": {
    "colab": {
     "base_uri": "https://localhost:8080/"
    },
    "id": "rZtNmg5QDsQn",
    "outputId": "4999b114-49e0-4644-9bbd-7137229f6b0b"
   },
   "outputs": [
    {
     "name": "stdout",
     "output_type": "stream",
     "text": [
      "Accuracy: 83.56 %.\n"
     ]
    }
   ],
   "source": [
    "# Calculate mean absolute percentage error (MAPE)\n",
    "mape_2 = 100 * (errors_2 / Y_test)\n",
    "# Calculate and display accuracy\n",
    "accuracy_2 = 100 - np.mean(mape_2)\n",
    "print('Accuracy:', round(accuracy_2, 2)[0], '%.')"
   ]
  },
  {
   "cell_type": "markdown",
   "metadata": {
    "id": "kM0lnXZVI7uu"
   },
   "source": [
    "#Hyperparameter tuning via Random Search"
   ]
  },
  {
   "cell_type": "code",
   "execution_count": 18,
   "metadata": {
    "colab": {
     "base_uri": "https://localhost:8080/"
    },
    "id": "JEAyiz2aI4_b",
    "outputId": "bb7f36b5-50ff-4e25-8de0-90f4b260b5eb"
   },
   "outputs": [
    {
     "name": "stdout",
     "output_type": "stream",
     "text": [
      "{'n_estimators': [200, 400, 600, 800, 1000, 1200, 1400, 1600, 1800, 2000], 'max_features': ['auto', 'sqrt'], 'max_depth': [10, 20, 30, 40, 50, 60, 70, 80, 90, 100, 110, None], 'min_samples_split': [2, 5, 10], 'min_samples_leaf': [1, 2, 4], 'bootstrap': [True, False]}\n"
     ]
    }
   ],
   "source": [
    "from sklearn.model_selection import RandomizedSearchCV\n",
    "# Number of trees in random forest\n",
    "n_estimators = [int(x) for x in np.linspace(start = 200, stop = 2000, num = 10)]\n",
    "# Number of features to consider at every split\n",
    "max_features = ['auto', 'sqrt']\n",
    "# Maximum number of levels in tree\n",
    "max_depth = [int(x) for x in np.linspace(10, 110, num = 11)]\n",
    "max_depth.append(None)\n",
    "# Minimum number of samples required to split a node\n",
    "min_samples_split = [2, 5, 10]\n",
    "# Minimum number of samples required at each leaf node\n",
    "min_samples_leaf = [1, 2, 4]\n",
    "# Method of selecting samples for training each tree\n",
    "bootstrap = [True, False]\n",
    "# Create the random grid\n",
    "random_grid = {'n_estimators': n_estimators,\n",
    "               'max_features': max_features,\n",
    "               'max_depth': max_depth,\n",
    "               'min_samples_split': min_samples_split,\n",
    "               'min_samples_leaf': min_samples_leaf,\n",
    "               'bootstrap': bootstrap}\n",
    "print(random_grid)"
   ]
  },
  {
   "cell_type": "code",
   "execution_count": 19,
   "metadata": {
    "colab": {
     "base_uri": "https://localhost:8080/"
    },
    "id": "qpMMz_jCJV38",
    "outputId": "657065eb-9ece-4add-aef2-96b08aec4131"
   },
   "outputs": [
    {
     "name": "stdout",
     "output_type": "stream",
     "text": [
      "Fitting 3 folds for each of 10 candidates, totalling 30 fits\n"
     ]
    },
    {
     "name": "stderr",
     "output_type": "stream",
     "text": [
      "[Parallel(n_jobs=-1)]: Using backend LokyBackend with 8 concurrent workers.\n",
      "[Parallel(n_jobs=-1)]: Done  30 out of  30 | elapsed: 51.6min finished\n",
      "/Users/jonathanchen/opt/anaconda3/lib/python3.8/site-packages/sklearn/model_selection/_search.py:765: DataConversionWarning: A column-vector y was passed when a 1d array was expected. Please change the shape of y to (n_samples,), for example using ravel().\n",
      "  self.best_estimator_.fit(X, y, **fit_params)\n"
     ]
    },
    {
     "data": {
      "text/plain": [
       "RandomizedSearchCV(cv=3, estimator=RandomForestRegressor(random_state=1),\n",
       "                   n_jobs=-1,\n",
       "                   param_distributions={'bootstrap': [True, False],\n",
       "                                        'max_depth': [10, 20, 30, 40, 50, 60,\n",
       "                                                      70, 80, 90, 100, 110,\n",
       "                                                      None],\n",
       "                                        'max_features': ['auto', 'sqrt'],\n",
       "                                        'min_samples_leaf': [1, 2, 4],\n",
       "                                        'min_samples_split': [2, 5, 10],\n",
       "                                        'n_estimators': [200, 400, 600, 800,\n",
       "                                                         1000, 1200, 1400, 1600,\n",
       "                                                         1800, 2000]},\n",
       "                   random_state=1, scoring='neg_mean_squared_error', verbose=2)"
      ]
     },
     "execution_count": 19,
     "metadata": {},
     "output_type": "execute_result"
    }
   ],
   "source": [
    "# Use the random grid to search for best hyperparameters\n",
    "# First create the base model to tune\n",
    "rf = RandomForestRegressor(random_state=1)\n",
    "# Random search of parameters, using 3 fold cross validation, \n",
    "# search across 10 different combinations, and use all available cores\n",
    "rf_random = RandomizedSearchCV(estimator = rf, param_distributions = random_grid, scoring='neg_mean_squared_error', n_iter = 10, cv = 3, verbose=2, random_state=1, n_jobs = -1)\n",
    "# Fit the random search model\n",
    "rf_random.fit(X_train, Y_train)"
   ]
  },
  {
   "cell_type": "code",
   "execution_count": 20,
   "metadata": {
    "id": "TSHuIAYWTzWZ"
   },
   "outputs": [
    {
     "data": {
      "text/plain": [
       "{'n_estimators': 600,\n",
       " 'min_samples_split': 2,\n",
       " 'min_samples_leaf': 2,\n",
       " 'max_features': 'sqrt',\n",
       " 'max_depth': 70,\n",
       " 'bootstrap': True}"
      ]
     },
     "execution_count": 20,
     "metadata": {},
     "output_type": "execute_result"
    }
   ],
   "source": [
    "rf_random.best_params_"
   ]
  },
  {
   "cell_type": "code",
   "execution_count": 21,
   "metadata": {
    "id": "ptuP6-upT0I_"
   },
   "outputs": [
    {
     "name": "stdout",
     "output_type": "stream",
     "text": [
      "Model Performance\n",
      "Mean Absolute Error: 0.8104\n",
      "Mean Squared Error: 1.1334\n",
      "Root Mean Squared Error: 1.0646\n",
      "Accuracy = 84.35%.\n"
     ]
    }
   ],
   "source": [
    "def evaluate(model, test_features, test_labels):\n",
    "    predictions = model.predict(test_features)\n",
    "    predictions = predictions.reshape(14546,1)\n",
    "    errors = abs(predictions - test_labels)\n",
    "    mape = 100 * np.mean(errors / test_labels)\n",
    "    accuracy = 100 - mape\n",
    "    print('Model Performance')\n",
    "    print('Mean Absolute Error: {0:.4f}'.format(metrics.mean_absolute_error(test_labels, predictions)))  \n",
    "    print('Mean Squared Error: {0:.4f}'.format(metrics.mean_squared_error(test_labels, predictions))) \n",
    "    print('Root Mean Squared Error: {0:.4f}'.format(np.sqrt(metrics.mean_squared_error(test_labels, predictions))))\n",
    "    print('Accuracy = {0:.2f}%.'.format(accuracy[0]))\n",
    "    \n",
    "    return accuracy\n",
    "\n",
    "best_random = rf_random.best_estimator_\n",
    "random_accuracy = evaluate(best_random, X_test, Y_test)"
   ]
  },
  {
   "cell_type": "code",
   "execution_count": null,
   "metadata": {},
   "outputs": [],
   "source": [
    "#Increase number of iterations"
   ]
  },
  {
   "cell_type": "code",
   "execution_count": 22,
   "metadata": {},
   "outputs": [
    {
     "name": "stdout",
     "output_type": "stream",
     "text": [
      "Fitting 3 folds for each of 60 candidates, totalling 180 fits\n"
     ]
    },
    {
     "name": "stderr",
     "output_type": "stream",
     "text": [
      "[Parallel(n_jobs=-1)]: Using backend LokyBackend with 8 concurrent workers.\n",
      "[Parallel(n_jobs=-1)]: Done  25 tasks      | elapsed: 39.5min\n",
      "[Parallel(n_jobs=-1)]: Done 146 tasks      | elapsed: 177.2min\n",
      "[Parallel(n_jobs=-1)]: Done 180 out of 180 | elapsed: 206.8min finished\n",
      "/Users/jonathanchen/opt/anaconda3/lib/python3.8/site-packages/sklearn/model_selection/_search.py:765: DataConversionWarning: A column-vector y was passed when a 1d array was expected. Please change the shape of y to (n_samples,), for example using ravel().\n",
      "  self.best_estimator_.fit(X, y, **fit_params)\n"
     ]
    },
    {
     "data": {
      "text/plain": [
       "RandomizedSearchCV(cv=3, estimator=RandomForestRegressor(random_state=1),\n",
       "                   n_iter=60, n_jobs=-1,\n",
       "                   param_distributions={'bootstrap': [True, False],\n",
       "                                        'max_depth': [10, 20, 30, 40, 50, 60,\n",
       "                                                      70, 80, 90, 100, 110,\n",
       "                                                      None],\n",
       "                                        'max_features': ['auto', 'sqrt'],\n",
       "                                        'min_samples_leaf': [1, 2, 4],\n",
       "                                        'min_samples_split': [2, 5, 10],\n",
       "                                        'n_estimators': [200, 400, 600, 800,\n",
       "                                                         1000, 1200, 1400, 1600,\n",
       "                                                         1800, 2000]},\n",
       "                   random_state=1, scoring='neg_mean_squared_error', verbose=2)"
      ]
     },
     "execution_count": 22,
     "metadata": {},
     "output_type": "execute_result"
    }
   ],
   "source": [
    "# First create the base model to tune\n",
    "rf_2 = RandomForestRegressor(random_state=1)\n",
    "# Random search of parameters, using 3 fold cross validation, \n",
    "# search across 10 different combinations, and use all available cores\n",
    "rf_random_2 = RandomizedSearchCV(estimator = rf_2, scoring='neg_mean_squared_error', param_distributions = random_grid, n_iter = 60, cv = 3, verbose=2, random_state=1, n_jobs = -1)\n",
    "# Fit the random search model\n",
    "rf_random_2.fit(X_train, Y_train)"
   ]
  },
  {
   "cell_type": "code",
   "execution_count": 23,
   "metadata": {},
   "outputs": [
    {
     "data": {
      "text/plain": [
       "{'n_estimators': 1600,\n",
       " 'min_samples_split': 5,\n",
       " 'min_samples_leaf': 2,\n",
       " 'max_features': 'sqrt',\n",
       " 'max_depth': 70,\n",
       " 'bootstrap': True}"
      ]
     },
     "execution_count": 23,
     "metadata": {},
     "output_type": "execute_result"
    }
   ],
   "source": [
    "rf_random_2.best_params_"
   ]
  },
  {
   "cell_type": "code",
   "execution_count": 24,
   "metadata": {},
   "outputs": [
    {
     "name": "stdout",
     "output_type": "stream",
     "text": [
      "Model Performance\n",
      "Mean Absolute Error: 0.8107\n",
      "Mean Squared Error: 1.1340\n",
      "Root Mean Squared Error: 1.0649\n",
      "Accuracy = 84.34%.\n"
     ]
    }
   ],
   "source": [
    "best_random_2 = rf_random_2.best_estimator_\n",
    "random_accuracy_2 = evaluate(best_random_2, X_test, Y_test)"
   ]
  },
  {
   "cell_type": "code",
   "execution_count": null,
   "metadata": {},
   "outputs": [],
   "source": []
  }
 ],
 "metadata": {
  "colab": {
   "name": "Random forest.ipynb",
   "provenance": []
  },
  "kernelspec": {
   "display_name": "Python 3",
   "language": "python",
   "name": "python3"
  },
  "language_info": {
   "codemirror_mode": {
    "name": "ipython",
    "version": 3
   },
   "file_extension": ".py",
   "mimetype": "text/x-python",
   "name": "python",
   "nbconvert_exporter": "python",
   "pygments_lexer": "ipython3",
   "version": "3.8.3"
  }
 },
 "nbformat": 4,
 "nbformat_minor": 1
}
